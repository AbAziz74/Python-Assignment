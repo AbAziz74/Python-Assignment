{
 "cells": [
  {
   "cell_type": "code",
   "execution_count": 1,
   "metadata": {},
   "outputs": [
    {
     "name": "stdout",
     "output_type": "stream",
     "text": [
      "Select operation.\n",
      "1.Power\n",
      "2.Add\n",
      "3.Subtract\n",
      "4.Multiply\n",
      "5.Divide\n",
      "Enter choice(1/2/3/4/5): 4\n",
      "Enter first number: 3\n",
      "Enter second number: 7\n",
      "3.0 * 7.0 = 21.0\n"
     ]
    }
   ],
   "source": [
    "def power(x, y):\n",
    "    return x**y\n",
    "\n",
    "def add(x, y):\n",
    "   return x + y\n",
    "\n",
    "\n",
    "def subtract(x, y):\n",
    "   return x - y\n",
    "\n",
    "\n",
    "def multiply(x, y):\n",
    "   return x * y\n",
    "\n",
    "\n",
    "def divide(x, y):\n",
    "   return x / y\n",
    "\n",
    "print(\"Select operation.\")\n",
    "print(\"1.Power\")\n",
    "print(\"2.Add\")\n",
    "print(\"3.Subtract\")\n",
    "print(\"4.Multiply\")\n",
    "print(\"5.Divide\")\n",
    " \n",
    "choice = input(\"Enter choice(1/2/3/4/5): \")\n",
    "\n",
    "num1 = float(input(\"Enter first number: \"))\n",
    "num2 = float(input(\"Enter second number: \"))\n",
    "\n",
    "if choice == '1':\n",
    "   print(num1,\"^\",num2,\"=\", power(num1,num2))\n",
    "\n",
    "elif choice == '2':\n",
    "    print(num1,\"+\",num2, \"=\", add(num1,num2))\n",
    "    \n",
    "elif choice == '3':\n",
    "   print(num1,\"-\",num2,\"=\", subtract(num1,num2))\n",
    "\n",
    "elif choice == '4':\n",
    "   print(num1,\"*\",num2,\"=\", multiply(num1,num2))\n",
    "\n",
    "elif choice == '5':\n",
    "   print(num1,\"/\",num2,\"=\", divide(num1,num2))\n",
    "else:\n",
    "   print(\"Invalid input\")"
   ]
  },
  {
   "cell_type": "code",
   "execution_count": 2,
   "metadata": {},
   "outputs": [
    {
     "name": "stdout",
     "output_type": "stream",
     "text": [
      "Yes it contain numeric values\n"
     ]
    }
   ],
   "source": [
    "values=[\"Muhammad Aqib Memon\",7,'a',\"Long\",4.0]\n",
    "count=0;\n",
    "for check in values:\n",
    "    if type(check) is int or type(check) is float :\n",
    "        count+=1\n",
    "if count>0:\n",
    "    print(\"Yes it contain numeric values\")"
   ]
  },
  {
   "cell_type": "code",
   "execution_count": 3,
   "metadata": {},
   "outputs": [
    {
     "name": "stdout",
     "output_type": "stream",
     "text": [
      "{'name': 'Abdul Aziz', 'caste': 'Mugheri'}\n",
      "{'name': 'Abdul Aziz', 'caste': 'Mugheri', 'address': 'Larkana'}\n"
     ]
    }
   ],
   "source": [
    "info={\n",
    "    \"name\" : \"Abdul Aziz\",\n",
    "    \"caste\" : \"Mugheri\"\n",
    "}\n",
    "\n",
    "print(info)\n",
    "\n",
    "info[\"address\"]=\"Larkana\"\n",
    "\n",
    "print(info)"
   ]
  },
  {
   "cell_type": "code",
   "execution_count": 5,
   "metadata": {},
   "outputs": [
    {
     "name": "stdout",
     "output_type": "stream",
     "text": [
      "the sum od the numeric values in dictionary is  31\n"
     ]
    }
   ],
   "source": [
    "values={\n",
    "    1:\"Aziz\",\n",
    "    \"a\" : 20,\n",
    "    3 : 7\n",
    "}\n",
    "\n",
    "sum=0\n",
    "\n",
    "for key,value in values.items() :\n",
    "    if type(value) is int or type(value) is float :\n",
    "        sum+=value\n",
    "    if type(key) is int or type(key) is float :\n",
    "        sum+=key\n",
    "        \n",
    "\n",
    "print(\"the sum od the numeric values in dictionary is \",sum)"
   ]
  },
  {
   "cell_type": "code",
   "execution_count": 6,
   "metadata": {},
   "outputs": [
    {
     "name": "stdout",
     "output_type": "stream",
     "text": [
      "repeated values: Aziz "
     ]
    }
   ],
   "source": [
    "list1=[\"Same\",\"Aziz\",\"Ahmed\",\"ALi\",\"Aziz\",\"Aqib\"]\n",
    "list2=[]\n",
    "print(\"repeated values:\" , end=\" \")\n",
    "for value in list1 :\n",
    "    if value in list2 :\n",
    "        print(value ,end=\" \" )\n",
    "    else :\n",
    "        list2.append(value)"
   ]
  },
  {
   "cell_type": "code",
   "execution_count": 7,
   "metadata": {},
   "outputs": [
    {
     "name": "stdout",
     "output_type": "stream",
     "text": [
      "Enter key 5\n",
      "Already exist \n"
     ]
    }
   ],
   "source": [
    "abc={\n",
    "    1 : \"A\",\n",
    "    2 : \"B\",\n",
    "    3 : \"C\",\n",
    "    4 : \"D\",\n",
    "    5 : \"E\",\n",
    "    6 : \"F\"\n",
    "}\n",
    "\n",
    "key=int(input(\"Enter key \"))\n",
    "\n",
    "if key in abc.keys() :\n",
    "    print(\"Already exist \")\n",
    "else:\n",
    "    print(\"do not exist\")"
   ]
  },
  {
   "cell_type": "code",
   "execution_count": null,
   "metadata": {},
   "outputs": [],
   "source": []
  }
 ],
 "metadata": {
  "kernelspec": {
   "display_name": "Python 3",
   "language": "python",
   "name": "python3"
  },
  "language_info": {
   "codemirror_mode": {
    "name": "ipython",
    "version": 3
   },
   "file_extension": ".py",
   "mimetype": "text/x-python",
   "name": "python",
   "nbconvert_exporter": "python",
   "pygments_lexer": "ipython3",
   "version": "3.7.4"
  }
 },
 "nbformat": 4,
 "nbformat_minor": 2
}
