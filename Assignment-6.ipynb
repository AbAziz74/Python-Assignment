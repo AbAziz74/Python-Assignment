{
 "cells": [
  {
   "cell_type": "code",
   "execution_count": 3,
   "metadata": {},
   "outputs": [
    {
     "name": "stdout",
     "output_type": "stream",
     "text": [
      "Object-oriented programming (OOP) is a programming language model in which programs are organized around data, or objects, rather than functions and logic. An object can be defined as a data field that has unique attributes and behavior.Examples of an object can range from physical entities, such as a human being that is described by properties like name and address\n"
     ]
    }
   ],
   "source": [
    "print(\"Object-oriented programming (OOP) is a programming language model in which programs are organized around data, or objects, rather than functions and logic. An object can be defined as a data field that has unique attributes and behavior.Examples of an object can range from physical entities, such as a human being that is described by properties like name and address\")"
   ]
  },
  {
   "cell_type": "code",
   "execution_count": 4,
   "metadata": {},
   "outputs": [
    {
     "name": "stdout",
     "output_type": "stream",
     "text": [
      "It provides a clear modular structure for programs which makes it good for defining abstract datatypes in which implementation details are hidden\n",
      "Objects can also be reused within an across applications. The reuse of software also lowers the cost of development. More effort is put into the object-oriented analysis and design, which lowers the overall cost of development.\n",
      "It makes software easier to maintain. Since the design is modular, part of the system can be updated in case of issues without a need to make large-scale changes\n",
      "Reuse also enables faster development. Object-oriented programming languages come with rich libraries of objects, and code developed during projects is also reusable in future projects.\n",
      "It provides a good framework for code libraries where the supplied software components can be easily adapted and modified by the programmer. This is particularly useful for developing graphical user interfaces.\n"
     ]
    }
   ],
   "source": [
    "print(\"It provides a clear modular structure for programs which makes it good for defining abstract datatypes in which implementation details are hidden\\nObjects can also be reused within an across applications. The reuse of software also lowers the cost of development. More effort is put into the object-oriented analysis and design, which lowers the overall cost of development.\\nIt makes software easier to maintain. Since the design is modular, part of the system can be updated in case of issues without a need to make large-scale changes\\nReuse also enables faster development. Object-oriented programming languages come with rich libraries of objects, and code developed during projects is also reusable in future projects.\\nIt provides a good framework for code libraries where the supplied software components can be easily adapted and modified by the programmer. This is particularly useful for developing graphical user interfaces.\")"
   ]
  },
  {
   "cell_type": "code",
   "execution_count": 5,
   "metadata": {},
   "outputs": [
    {
     "name": "stdout",
     "output_type": "stream",
     "text": [
      " A function is a piece of code that is called by name. It can be passed data to operate on (i.e. the parameters) and can optionally return data (the return value). All data that is passed to a function is explicitly passed.\n",
      "\n",
      "A method is a piece of code that is called by a name that is associated with an object. In most respects it is identical to a function except for two key differences:\n",
      "\t1-A method is implicitly passed the object on which it was called.\n",
      "\t-2A method is able to operate on data that is contained within the class (remembering that an object is an instance of a class - the class is the definition, the object is an instance of that data.\n"
     ]
    }
   ],
   "source": [
    "print(\" A function is a piece of code that is called by name. It can be passed data to operate on (i.e. the parameters) and can optionally return data (the return value). All data that is passed to a function is explicitly passed.\\n\\nA method is a piece of code that is called by a name that is associated with an object. In most respects it is identical to a function except for two key differences:\\n\\t1-A method is implicitly passed the object on which it was called.\\n\\t-2A method is able to operate on data that is contained within the class (remembering that an object is an instance of a class - the class is the definition, the object is an instance of that data.\")"
   ]
  },
  {
   "cell_type": "code",
   "execution_count": 6,
   "metadata": {},
   "outputs": [
    {
     "name": "stdout",
     "output_type": "stream",
     "text": [
      "it describes an aggregate of data fields (called instance variables), and defines the operations (called methods).\n",
      "\n",
      "Object:an object is an element (or instance) of a class; objects have the behaviors of their class. The object is the actual component of programs, while the class specifies how instances are created and how they behave.:\n",
      "\n",
      "Attributes are the individual things that differentiate one object from another and determine the appearance, state, or other qualities of that object. Let's create a theoretical class called Motorcycle. A motorcycle class might include the following attributes and have these typical values:\n",
      "Color: red, green, silver, brown\n",
      "Style: cruiser, sport bike, standard\n",
      "Make: Honda, BMW, Bultaco\n",
      "\n",
      "Behavior:Behavior determines how an instance of that class operates; for example, how it will react if asked to do something by another class or object or if its internal state changes. Behavior is the only way objects can do anything to themselves or have anything done to them. For example, to go back to the theoretical Motorcycle class, here are some behaviors that the Motorcycle class might have:\n",
      "Start the engine\n",
      "Stop the engine\n",
      "Speed up\n"
     ]
    }
   ],
   "source": [
    "print(\"it describes an aggregate of data fields (called instance variables), and defines the operations (called methods).\\n\\nObject:an object is an element (or instance) of a class; objects have the behaviors of their class. The object is the actual component of programs, while the class specifies how instances are created and how they behave.:\\n\\nAttributes are the individual things that differentiate one object from another and determine the appearance, state, or other qualities of that object. Let's create a theoretical class called Motorcycle. A motorcycle class might include the following attributes and have these typical values:\\nColor: red, green, silver, brown\\nStyle: cruiser, sport bike, standard\\nMake: Honda, BMW, Bultaco\\n\\nBehavior:Behavior determines how an instance of that class operates; for example, how it will react if asked to do something by another class or object or if its internal state changes. Behavior is the only way objects can do anything to themselves or have anything done to them. For example, to go back to the theoretical Motorcycle class, here are some behaviors that the Motorcycle class might have:\\nStart the engine\\nStop the engine\\nSpeed up\")"
   ]
  },
  {
   "cell_type": "code",
   "execution_count": null,
   "metadata": {},
   "outputs": [],
   "source": []
  }
 ],
 "metadata": {
  "kernelspec": {
   "display_name": "Python 3",
   "language": "python",
   "name": "python3"
  },
  "language_info": {
   "codemirror_mode": {
    "name": "ipython",
    "version": 3
   },
   "file_extension": ".py",
   "mimetype": "text/x-python",
   "name": "python",
   "nbconvert_exporter": "python",
   "pygments_lexer": "ipython3",
   "version": "3.7.4"
  }
 },
 "nbformat": 4,
 "nbformat_minor": 2
}
