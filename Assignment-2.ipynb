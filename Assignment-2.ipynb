{
 "cells": [
  {
   "cell_type": "code",
   "execution_count": 1,
   "metadata": {},
   "outputs": [
    {
     "name": "stdout",
     "output_type": "stream",
     "text": [
      "Enter marks of maths: 85\n",
      "Enter marks of urdu: 75\n",
      "Enter marks of sindhi: 75\n",
      "Enter marks of english: 98\n",
      "Enter marks of science: 79\n",
      "Grade: B\n"
     ]
    }
   ],
   "source": [
    "maths=int(input(\"Enter marks of maths: \"))\n",
    "urdu=int(input(\"Enter marks of urdu: \"))\n",
    "sindhi=int(input(\"Enter marks of sindhi: \"))\n",
    "english=int(input(\"Enter marks of english: \"))\n",
    "science=int(input(\"Enter marks of science: \"))\n",
    "avg=(maths+urdu+sindhi+english+science)/5\n",
    "if(avg>=90 ):\n",
    "    print(\"Grade: A\")\n",
    "elif(avg>=80 and avg<90):\n",
    "    print(\"Grade: B\")\n",
    "elif(avg>=70 and avg<80):\n",
    "    print(\"Grade: C\")\n",
    "elif(avg>=60 and avg<70):\n",
    "    print(\"Grade: D\")\n",
    "else:\n",
    "    print(\"Grade: F\")"
   ]
  },
  {
   "cell_type": "code",
   "execution_count": 2,
   "metadata": {},
   "outputs": [
    {
     "name": "stdout",
     "output_type": "stream",
     "text": [
      "Enter a number: 78\n",
      "78 is Even Number\n"
     ]
    }
   ],
   "source": [
    "number = int(input(\"Enter a number: \"))\n",
    "if (number % 2) == 0:\n",
    "   print(\"{0} is Even Number\".format(number))\n",
    "else:\n",
    "   print(\"{0} is Odd Number\".format(number))\n"
   ]
  },
  {
   "cell_type": "code",
   "execution_count": 3,
   "metadata": {},
   "outputs": [
    {
     "name": "stdout",
     "output_type": "stream",
     "text": [
      "Length of given list is:  9\n"
     ]
    }
   ],
   "source": [
    "length=[1,3,4,8,9,10,12,14,16]\n",
    "print(\"Length of given list is: \",len(length))"
   ]
  },
  {
   "cell_type": "code",
   "execution_count": 4,
   "metadata": {},
   "outputs": [
    {
     "name": "stdout",
     "output_type": "stream",
     "text": [
      "Sum of all elements in given list is:  150\n"
     ]
    }
   ],
   "source": [
    "sum = 0\n",
    "lis = [10,20,30,40,50]  \n",
    "   \n",
    "for ele in range(0, len(lis)): \n",
    "    sum = sum + lis[ele]\n",
    "\n",
    "print(\"Sum of all elements in given list is: \", sum)"
   ]
  },
  {
   "cell_type": "code",
   "execution_count": 7,
   "metadata": {},
   "outputs": [
    {
     "name": "stdout",
     "output_type": "stream",
     "text": [
      "Largest element is: 50\n"
     ]
    }
   ],
   "source": [
    "list = [10,20,30,40,50] \n",
    "list.sort() \n",
    "   \n",
    "print(\"Largest element is:\", list[-1])"
   ]
  },
  {
   "cell_type": "code",
   "execution_count": 6,
   "metadata": {},
   "outputs": [
    {
     "name": "stdout",
     "output_type": "stream",
     "text": [
      "1\n",
      "1\n",
      "2\n",
      "3\n"
     ]
    }
   ],
   "source": [
    " a= [1, 1, 2, 3, 5, 8, 13, 21, 34, 55, 89]\n",
    "\n",
    "for i in a:\n",
    "\n",
    "    if i < 5:\n",
    "\n",
    "        print(i)"
   ]
  },
  {
   "cell_type": "code",
   "execution_count": null,
   "metadata": {},
   "outputs": [],
   "source": []
  }
 ],
 "metadata": {
  "kernelspec": {
   "display_name": "Python 3",
   "language": "python",
   "name": "python3"
  },
  "language_info": {
   "codemirror_mode": {
    "name": "ipython",
    "version": 3
   },
   "file_extension": ".py",
   "mimetype": "text/x-python",
   "name": "python",
   "nbconvert_exporter": "python",
   "pygments_lexer": "ipython3",
   "version": "3.7.4"
  }
 },
 "nbformat": 4,
 "nbformat_minor": 2
}
